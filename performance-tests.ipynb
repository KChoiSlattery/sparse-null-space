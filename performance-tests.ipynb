{
 "cells": [
  {
   "cell_type": "code",
   "execution_count": 1,
   "id": "acfcd3f1",
   "metadata": {},
   "outputs": [],
   "source": [
    "import scipy\n",
    "import numpy as np\n",
    "from sparse_null import sparse_null\n",
    "\n",
    "# Default options are for the first test case.\n",
    "A = scipy.sparse.random_array((3000, 3000), density=0.001, rng=12)"
   ]
  },
  {
   "cell_type": "code",
   "execution_count": 2,
   "id": "bd399ccc",
   "metadata": {},
   "outputs": [
    {
     "name": "stdout",
     "output_type": "stream",
     "text": [
      "2.22 s ± 24 ms per loop (mean ± std. dev. of 7 runs, 1 loop each)\n"
     ]
    }
   ],
   "source": [
    "%timeit sparse_null(A, show=False)\n",
    "H1 = sparse_null(A, show=False)"
   ]
  },
  {
   "cell_type": "code",
   "execution_count": 3,
   "id": "8739b13f",
   "metadata": {},
   "outputs": [
    {
     "name": "stdout",
     "output_type": "stream",
     "text": [
      "3.74 s ± 137 ms per loop (mean ± std. dev. of 7 runs, 1 loop each)\n"
     ]
    }
   ],
   "source": [
    "%timeit scipy.linalg.null_space(A.todense())\n",
    "H2 = scipy.linalg.null_space(A.todense())"
   ]
  },
  {
   "cell_type": "code",
   "execution_count": 4,
   "id": "a8f51fe8",
   "metadata": {},
   "outputs": [
    {
     "name": "stdout",
     "output_type": "stream",
     "text": [
      "sparse_null density: 0.0527%\n",
      "scipy.linalg.null_space density: 99.8012%\n"
     ]
    }
   ],
   "source": [
    "H1_density = H1.count_nonzero()/(H1.shape[0]*H1.shape[1])\n",
    "H2_density = np.count_nonzero(H2)/H2.size\n",
    "\n",
    "print(f\"sparse_null density: {H1_density*100:.4f}%\")\n",
    "print(f\"scipy.linalg.null_space density: {H2_density*100:.4f}%\")"
   ]
  }
 ],
 "metadata": {
  "kernelspec": {
   "display_name": "venv",
   "language": "python",
   "name": "python3"
  },
  "language_info": {
   "codemirror_mode": {
    "name": "ipython",
    "version": 3
   },
   "file_extension": ".py",
   "mimetype": "text/x-python",
   "name": "python",
   "nbconvert_exporter": "python",
   "pygments_lexer": "ipython3",
   "version": "3.12.4"
  }
 },
 "nbformat": 4,
 "nbformat_minor": 5
}
